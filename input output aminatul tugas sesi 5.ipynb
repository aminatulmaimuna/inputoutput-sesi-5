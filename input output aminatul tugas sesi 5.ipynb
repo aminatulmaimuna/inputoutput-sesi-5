{
 "cells": [
  {
   "cell_type": "markdown",
   "id": "3ea2b573",
   "metadata": {},
   "source": [
    "<h1>Biodata<h1>"
   ]
  },
  {
   "cell_type": "code",
   "execution_count": 7,
   "id": "7eacb52f",
   "metadata": {},
   "outputs": [
    {
     "name": "stdout",
     "output_type": "stream",
     "text": [
      "insert your name : aminatul maimunah al amalah \n",
      "insert your birthday :25/05/2005\n",
      "insert your major :informatics engineering\n",
      "insert your campus :nusa putra university sukabumi\n",
      "Name : aminatul maimunah al amalah \n",
      "Date : 25\n",
      "Month : 05\n",
      "Year : 2005\n",
      "Major : informatics engineering\n",
      "Campus : nusa putra university sukabumi\n",
      "Initial : am\n"
     ]
    }
   ],
   "source": [
    "name = input(\"insert your name : \")\n",
    "birthday = input(\"insert your birthday :\")\n",
    "major = input(\"insert your major :\")\n",
    "campus = input(\"insert your campus :\")\n",
    "\n",
    "birth = birthday.split('/')\n",
    "initial = name.split()\n",
    "\n",
    "print(f\"Name : {name}\")\n",
    "print(f\"Date : {birth[0]}\")\n",
    "print(f\"Month : {birth[1]}\")\n",
    "print(f\"Year : {birth[2]}\")\n",
    "print(f\"Major : {major}\")\n",
    "print(f\"Campus : {campus}\")\n",
    "print(f\"Initial : {initial[0][0]}{initial[1][0]}\")\n",
    "\n"
   ]
  },
  {
   "cell_type": "code",
   "execution_count": 9,
   "id": "9b8447d6",
   "metadata": {},
   "outputs": [
    {
     "name": "stdout",
     "output_type": "stream",
     "text": [
      "Putra Nusa\n",
      "niversitas N sa P tra S kab mi\n",
      "S Putra Nusa Putra Universitas\n",
      "UNPS\n",
      "tas  sa Pu bumi\n"
     ]
    }
   ],
   "source": [
    "kampus = \"Universitas Nusa Putra Sukabumi\"\n",
    "inisial = kampus.split()\n",
    "\n",
    "print(kampus[17:-9],kampus[12:-15])\n",
    "print(kampus[1:13],kampus[14:18],kampus[19:24],kampus[-6:-3],kampus[-2:])\n",
    "print(kampus[-8],kampus[17:-9],kampus[12:-9],kampus[:11])\n",
    "print(f\"{inisial[0][0]}{inisial[1][0]}{inisial[2][0]}{inisial[3][0]}\")\n",
    "print(kampus[8:12],kampus[14:19],kampus[-4 :])"
   ]
  }
 ],
 "metadata": {
  "kernelspec": {
   "display_name": "Python 3 (ipykernel)",
   "language": "python",
   "name": "python3"
  },
  "language_info": {
   "codemirror_mode": {
    "name": "ipython",
    "version": 3
   },
   "file_extension": ".py",
   "mimetype": "text/x-python",
   "name": "python",
   "nbconvert_exporter": "python",
   "pygments_lexer": "ipython3",
   "version": "3.9.12"
  }
 },
 "nbformat": 4,
 "nbformat_minor": 5
}
